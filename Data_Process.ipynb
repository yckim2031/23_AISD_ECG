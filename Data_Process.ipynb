{
 "cells": [
  {
   "cell_type": "markdown",
   "id": "fd7e2b0b",
   "metadata": {},
   "source": [
    "### 코드 내용\n",
    "바이오팩 txt 데이터가 정렬되지 않은 상태. 밑의 코드로 정렬하여 csv파일과 npz파일을 저장"
   ]
  },
  {
   "cell_type": "code",
   "execution_count": 1,
   "id": "242158bb",
   "metadata": {},
   "outputs": [],
   "source": [
    "import numpy as np\n",
    "import csv\n",
    "import os\n",
    "import matplotlib.pyplot as plt"
   ]
  },
  {
   "cell_type": "code",
   "execution_count": 81,
   "id": "ba5c9fdb",
   "metadata": {
    "scrolled": true
   },
   "outputs": [
    {
     "name": "stdout",
     "output_type": "stream",
     "text": [
      "Type the root of csv files: F:\\Lab\\Research\\PPG_drunk_detection\n",
      "Type the save csv files: F:\\Lab\\Research\\PPG_drunk_detection\\csv_files\n",
      "1_1_1.txt  processed 1203874\n",
      "1_1_2.txt  processed 1204108\n",
      "1_2_1.txt  processed 1206967\n",
      "1_2_2.txt  processed 1261760\n",
      "1_3_1.txt  processed 1204676\n",
      "1_3_2.txt  processed 1203890\n",
      "2_1_1.txt  processed 1000356\n",
      "2_1_2.txt  processed 1078190\n",
      "2_2_1.txt  processed 1041194\n",
      "2_2_2.txt  processed 1001812\n",
      "2_3_1.txt  processed 1002318\n",
      "2_3_2.txt  processed 1001433\n",
      "3_1_1.txt  processed 1002499\n",
      "3_1_2.txt  processed 1001312\n",
      "3_2_1.txt  processed 1005011\n",
      "3_2_2.txt  processed 1001518\n",
      "3_3_1.txt  processed 1003647\n",
      "3_3_2.txt  processed 1000676\n",
      "4_1_1.txt  processed 1200963\n",
      "4_1_2.txt  processed 1220400\n",
      "4_2_1.txt  processed 1201285\n",
      "4_2_2.txt  processed 1201251\n",
      "4_3_1.txt  processed 1201829\n",
      "4_3_2.txt  processed 1205993\n",
      "5_1_1.txt  processed 1200982\n",
      "5_1_2.txt  processed 1201003\n",
      "5_2_1.txt  processed 1201099\n",
      "5_2_2.txt  processed 1200744\n",
      "5_3_1.txt  processed 1200927\n",
      "5_3_2.txt  processed 1202234\n",
      "6_1_1.txt  processed 1210333\n",
      "6_1_2.txt  processed 1208910\n",
      "6_2_1.txt  processed 1212592\n",
      "6_2_2.txt  processed 1345319\n",
      "6_3_1.txt  processed 1064818\n",
      "6_3_2.txt  processed 748318\n",
      "7_1_1.txt  processed 1200784\n",
      "7_1_2.txt  processed 1200897\n",
      "7_2_1.txt  processed 1202663\n",
      "7_2_2.txt  processed 1225977\n",
      "7_3_1.txt  processed 1210383\n",
      "7_3_2.txt  processed 1201412\n",
      "8_1_1.txt  processed 1203170\n",
      "8_1_2.txt  processed 1206241\n",
      "8_2_1.txt  processed 1207736\n",
      "8_2_2.txt  processed 1225144\n",
      "8_3_1.txt  processed 1209063\n",
      "8_3_2.txt  processed 1205193\n",
      "9_1_1.txt  processed 1201902\n",
      "9_1_2.txt  processed 1220662\n",
      "9_2_1.txt  processed 1201268\n",
      "9_2_2.txt  processed 1388750\n",
      "9_3_1.txt  processed 1261314\n",
      "9_3_2.txt  processed 1200817\n",
      "10_1_1.txt  processed 1216122\n",
      "10_1_2.txt  processed 1209907\n",
      "10_2_1.txt  processed 1846324\n",
      "10_2_2.txt  processed 1408143\n",
      "10_3_1.txt  processed 249649\n",
      "10_3_2.txt  processed 182936\n"
     ]
    }
   ],
   "source": [
    "folder_path = input(\"Type the root of csv files: \")\n",
    "save_folder_path = input(\"Type the save csv files: \")\n",
    "file_list = os.listdir(folder_path)\n",
    "\n",
    "for file_name in file_list:\n",
    "    if file_name.endswith(\".txt\"):\n",
    "        file_path = os.path.join(folder_path, file_name)\n",
    "        with open(file_path, 'r') as file:\n",
    "            #data = np.empty((0,), dtype = float)\n",
    "            data=[]\n",
    "            for line in file:\n",
    "                values = line.strip().split()\n",
    "                data.append(float(values[len(values)-2]))\n",
    "            print(file_name, \" processed\", len(data))\n",
    "            np.savetxt(save_folder_path+\"\\\\\"+file_name[:-4]+\".csv\", data, delimiter=',')\n",
    "            np.save(save_folder_path+\"\\\\\"+file_name[:-4]+\".npy\", data)"
   ]
  }
 ],
 "metadata": {
  "kernelspec": {
   "display_name": "Python 3 (ipykernel)",
   "language": "python",
   "name": "python3"
  },
  "language_info": {
   "codemirror_mode": {
    "name": "ipython",
    "version": 3
   },
   "file_extension": ".py",
   "mimetype": "text/x-python",
   "name": "python",
   "nbconvert_exporter": "python",
   "pygments_lexer": "ipython3",
   "version": "3.9.13"
  }
 },
 "nbformat": 4,
 "nbformat_minor": 5
}
