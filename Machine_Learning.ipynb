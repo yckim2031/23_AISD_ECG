{
 "cells": [
  {
   "cell_type": "code",
   "execution_count": 1,
   "id": "3846d134-de35-4a9e-bf4c-87d3fd6edc0f",
   "metadata": {
    "tags": []
   },
   "outputs": [],
   "source": [
    "import os\n",
    "import numpy as np\n",
    "import pandas as pd\n",
    "import matplotlib.pyplot as plt\n",
    "import seaborn as sns\n",
    "import sklearn\n",
    "from sklearn.model_selection import cross_val_score,train_test_split,KFold, GridSearchCV, RandomizedSearchCV\n",
    "from sklearn.metrics import confusion_matrix, accuracy_score, precision_score, recall_score\n",
    "\n",
    "from sklearn.tree import DecisionTreeClassifier as dtc\n",
    "from sklearn.ensemble import RandomForestClassifier as rfc\n",
    "from sklearn.ensemble import GradientBoostingClassifier as gbc\n",
    "from sklearn.multiclass import OutputCodeClassifier\n",
    "from sklearn.datasets import make_classification\n",
    "from sklearn.neighbors import KNeighborsClassifier as knc\n",
    "from sklearn.ensemble import StackingClassifier\n",
    "from sklearn.svm import SVC\n",
    "from sklearn.pipeline import Pipeline\n",
    "from sklearn.preprocessing import StandardScaler"
   ]
  },
  {
   "cell_type": "code",
   "execution_count": 90,
   "id": "217515cd-2b87-4b07-8919-83b3e19909fd",
   "metadata": {
    "tags": []
   },
   "outputs": [],
   "source": [
    "#정확도 누적 및 그래프 출력 함수\n",
    "\n",
    "my_predictions = {}\n",
    "\n",
    "colors = ['r', 'c', 'm', 'y', 'k', 'khaki', 'teal', 'orchid', 'sandybrown',\n",
    "          'greenyellow', 'dodgerblue', 'deepskyblue', 'rosybrown', 'firebrick',\n",
    "          'deeppink', 'crimson', 'salmon', 'darkred', 'olivedrab', 'olive',\n",
    "          'forestgreen', 'royalblue', 'indigo', 'navy', 'mediumpurple', 'chocolate',\n",
    "          'gold', 'darkorange', 'seagreen', 'turquoise', 'steelblue', 'slategray',\n",
    "          'peru', 'midnightblue', 'slateblue', 'dimgray', 'cadetblue', 'tomato'\n",
    "         ]\n",
    "\n",
    "def accuracy_eval(name_, pred, actual):\n",
    "    global predictions\n",
    "    global colors\n",
    "\n",
    "    plt.figure(figsize=(12, 9))\n",
    "\n",
    "    acc = accuracy_score(actual, pred)\n",
    "    my_predictions[name_] = acc * 100\n",
    "\n",
    "    y_value = sorted(my_predictions.items(), key=lambda x: x[1], reverse=True)\n",
    "\n",
    "    df = pd.DataFrame(y_value, columns=['model', 'accuracy'])\n",
    "    print(df)\n",
    "\n",
    "    length = len(df)\n",
    "\n",
    "    plt.figure(figsize=(10, length))\n",
    "    ax = plt.subplot()\n",
    "    ax.set_yticks(np.arange(len(df)))\n",
    "    ax.set_yticklabels(df['model'], fontsize=15)\n",
    "    bars = ax.barh(np.arange(len(df)), df['accuracy'])\n",
    "\n",
    "    for i, v in enumerate(df['accuracy']):\n",
    "        idx = np.random.choice(len(colors))\n",
    "        bars[i].set_color(colors[idx])\n",
    "        ax.text(v + 2, i, str(round(v, 3)), color='k', fontsize=15, fontweight='bold')\n",
    "\n",
    "    plt.title('accuracy', fontsize=18)\n",
    "    plt.xlim(0, 100)\n",
    "\n",
    "    plt.show()"
   ]
  },
  {
   "cell_type": "markdown",
   "id": "d436a4ac-944e-4339-846a-cb578dd3d0db",
   "metadata": {},
   "source": [
    "## Data loading"
   ]
  },
  {
   "cell_type": "code",
   "execution_count": 105,
   "id": "93e4f99b-1753-47e6-a576-612a96388f0f",
   "metadata": {},
   "outputs": [
    {
     "name": "stdin",
     "output_type": "stream",
     "text": [
      " /media/yoonchul/T7/Lab/Research/PPG_drunk_detection/Dataset/npz_files/Attempt_2\n",
      "Type 2 or 3:  2\n"
     ]
    },
    {
     "name": "stdout",
     "output_type": "stream",
     "text": [
      "로딩된 데이터: (9010, 49)\n"
     ]
    }
   ],
   "source": [
    "# Data loading\n",
    "\n",
    "columns = ['AmVP_1', 'AmVP_2', 'AmVP_3', 'AmVP_4', 'AmVP_5',\n",
    "           'AmPD_1', 'AmPD_2', 'AmPD_3', 'AmPD_4', 'AmPD_5',\n",
    "           'AmVD_1', 'AmVD_2', 'AmVD_3', 'AmVD_4', 'AmVD_5',\n",
    "           'RtVD_VP_1', 'RtVD_VP_2', 'RtVD_VP_3', 'RtVD_VP_4', 'RtVD_VP_5',\n",
    "           'RtVD_PD_1', 'RtVD_PD_2', 'RtVD_PD_3', 'RtVD_PD_4', 'RtVD_PD_5',\n",
    "           'TmPP_1', 'TmPP_2', 'TmPP_3', 'TmPP_4',\n",
    "           'TmVD_1', 'TmVD_2', 'TmVD_3', 'TmVD_4', 'TmVD_5',\n",
    "           'TmDV_1', 'TmDV_2', 'TmDV_3', 'TmDV_4', 'TmDV_5',\n",
    "           'RSD_1', 'RSD_2', 'RSD_3', 'RSD_4', 'RSD_5',\n",
    "           'RtArea_1', 'RtArea_2', 'RtArea_3', 'RtArea_4', 'RtArea_5'\n",
    "          ]\n",
    "\n",
    "folder_path = input()\n",
    "is_binary = int(input(\"Type 2 or 3: \"))\n",
    "file_list = os.listdir(folder_path)\n",
    "data = np.empty((0,49), dtype = float)\n",
    "label = np.empty((0,), dtype = int)\n",
    "\n",
    "for filename in file_list:\n",
    "    if filename.endswith('.npz'):\n",
    "        file_path = os.path.join(folder_path, filename)\n",
    "        temp = np.load(file_path)\n",
    "        data = np.insert(data, data.shape[0], temp['x'], axis = 0)\n",
    "        if is_binary == 2:\n",
    "            for i in range(len(temp['y_1'])):\n",
    "                if temp['y_1'][i] > 1:\n",
    "                    label = np.append(label, 2)\n",
    "                else:\n",
    "                    label = np.append(label, 1)\n",
    "        if is_binary == 3:\n",
    "            label = np.append(label, temp['y_1'])\n",
    "\n",
    "print('로딩된 데이터:',data.shape)"
   ]
  },
  {
   "cell_type": "markdown",
   "id": "faa2a01b-610c-4b06-8ee3-551541f397fd",
   "metadata": {},
   "source": [
    "/media/yoonchul/T7/Lab/Research/PPG_drunk_detection/Dataset/npz_files/Attempt_2"
   ]
  },
  {
   "cell_type": "code",
   "execution_count": 107,
   "id": "d844288c-b12e-49d7-9d76-c2ac121e192a",
   "metadata": {},
   "outputs": [],
   "source": [
    "# 머신러닝 알고리즘\n",
    "x_train,x_test,y_train,y_test = train_test_split(data, label, test_size = 0.2, random_state = 10)"
   ]
  },
  {
   "cell_type": "markdown",
   "id": "2f23c0e3-5eb1-4d64-abe6-f6fadbfced35",
   "metadata": {},
   "source": [
    "Decision Tree Classifier"
   ]
  },
  {
   "cell_type": "code",
   "execution_count": null,
   "id": "4e10164e-c5c3-4fd0-bad5-dbaebd2ac94d",
   "metadata": {
    "tags": []
   },
   "outputs": [],
   "source": [
    "# Decision Tree Classifier\n",
    "\n",
    "# GridSearchCV의 인자들:\n",
    "# estimator - 알고리즘\n",
    "# param_grid - 사용될 파라미터를 딕셔너리 형태로 삽입\n",
    "# scoring - 예측 성능 픅정할 평가방법: 분류 - accuracy, f1 // 회귀: neg_mean_squared_error, r2\n",
    "# cv - 교차검증에서 몇 개로 분할되는지 지정. 정수: K겹 교차검증\n",
    "# refit: True로 하면 최적의 하이퍼파라미터를 찾아 estimator를 재학습시킴\n",
    "\n",
    "pipe = [\n",
    "    ('scaler', StandardScaler()),\n",
    "    ('DTC', dtc())\n",
    "]\n",
    "pipe_dtc = Pipeline(pipe, verbose=False)\n",
    "\n",
    "DTC = dtc()\n",
    "param_dist = {\n",
    "    'DTC__criterion':['gini','entropy'], \n",
    "    'DTC__max_depth':[None], \n",
    "    'DTC__max_leaf_nodes':[None], \n",
    "    'DTC__min_samples_split':[1,2,3], \n",
    "    'DTC__min_samples_leaf':[4], \n",
    "    'DTC__max_features':[None,'sqrt','log2',3,4,5]\n",
    "    }\n",
    "\n",
    "rand_dtc_search = GridSearchCV(pipe_dtc, param_grid = param_dist, cv = 5, scoring = 'accuracy', refit=True)\n",
    "rand_dtc_search.fit(x_train, y_train)\n",
    "                                     \n",
    "print('best parameters : ', rand_dtc_search.best_params_)\n",
    "print('best score : ', round(rand_dtc_search.best_score_, 4))\n",
    "                                     \n",
    "estimator_dtc = rand_dtc_search.best_estimator_\n",
    "\n",
    "kf = KFold(n_splits = 5, shuffle = True, random_state = 50)\n",
    "accuracy_history = []\n",
    "\n",
    "for train_index, test_index in kf.split(data):\n",
    "\n",
    "    x_train, x_test = data[train_index], data[test_index]\n",
    "    y_train, y_test = label[train_index], label[test_index]\n",
    "\n",
    "    res = estimator_dtc.fit(x_train, y_train)\n",
    "\n",
    "    y_pred = res.predict(x_test) # 예측 라벨\n",
    "    accuracy_history.append(accuracy_score(y_pred, y_test)) # 정확도 측정 및 기록\n",
    "\n",
    "print(\"각 분할의 정확도 기록 :\", accuracy_history)\n",
    "print(\"평균 정확도 :\", np.mean(accuracy_history))"
   ]
  },
  {
   "cell_type": "markdown",
   "id": "c5af456a-6da9-4834-b840-f035b9daafa4",
   "metadata": {},
   "source": [
    "Random Forest Classifier"
   ]
  },
  {
   "cell_type": "code",
   "execution_count": 31,
   "id": "e8569a56-e055-42ae-811e-325ba3015361",
   "metadata": {},
   "outputs": [
    {
     "name": "stdout",
     "output_type": "stream",
     "text": [
      "                    model   accuracy\n",
      "0  RandomForestClassifier  87.846837\n"
     ]
    },
    {
     "data": {
      "text/plain": [
       "<Figure size 1200x900 with 0 Axes>"
      ]
     },
     "metadata": {},
     "output_type": "display_data"
    },
    {
     "data": {
      "image/png": "[encoded data removed]",
      "text/plain": [
       "<Figure size 1000x100 with 1 Axes>"
      ]
     },
     "metadata": {},
     "output_type": "display_data"
    }
   ],
   "source": [
    "RFC =rfc(n_estimators=217,max_depth=None, min_samples_split=4,random_state=42)\n",
    "RFC.fit(x_train,y_train)\n",
    "y_pred = RFC.predict(x_test)\n",
    "accuracy_eval('RandomForestClassifier', y_pred, y_test)"
   ]
  },
  {
   "cell_type": "code",
   "execution_count": 114,
   "id": "c31461b5-8626-49bd-be5e-f5b78eb21d13",
   "metadata": {},
   "outputs": [
    {
     "name": "stdout",
     "output_type": "stream",
     "text": [
      "best parameters :  {'RFC__max_depth': None, 'RFC__min_samples_leaf': 8, 'RFC__min_samples_split': 8, 'RFC__n_estimators': 217}\n",
      "best score :  0.815\n",
      "각 분할의 정확도 기록 : [0.9389567147613762, 0.9378468368479467, 0.9322974472807991, 0.9400665926748057, 0.9328523862375139]\n",
      "평균 정확도 : 0.9364039955604883\n"
     ]
    }
   ],
   "source": [
    "# RandomForest\n",
    "pipe = [\n",
    "    ('scaler', StandardScaler()),\n",
    "    ('RFC', rfc())\n",
    "]\n",
    "pipe_rfc = Pipeline(pipe, verbose=False)\n",
    "\n",
    "param_dist = {\n",
    "    'RFC__n_estimators' : [217],\n",
    "    'RFC__max_depth' : [None],\n",
    "    'RFC__min_samples_leaf' : [8],\n",
    "    'RFC__min_samples_split' : [8]\n",
    "    }\n",
    "\n",
    "rand_rfc_search = GridSearchCV(pipe_rfc, param_grid = param_dist, cv = 5, scoring = 'accuracy', refit=True)\n",
    "rand_rfc_search.fit(x_train, y_train)\n",
    "                                     \n",
    "print('best parameters : ', rand_rfc_search.best_params_)\n",
    "print('best score : ', round(rand_rfc_search.best_score_, 4))\n",
    "                                     \n",
    "estimator_rfc = rand_rfc_search.best_estimator_\n",
    "\n",
    "kf = KFold(n_splits = 5, shuffle = True, random_state = 50)\n",
    "accuracy_history = []\n",
    "\n",
    "for train_index, test_index in kf.split(data):\n",
    "\n",
    "    x_train, x_test = data[train_index], data[test_index]\n",
    "    y_train, y_test = label[train_index], label[test_index]\n",
    "\n",
    "    res = estimator_rfc.fit(x_train, y_train)\n",
    "\n",
    "    y_pred = res.predict(x_test) # 예측 라벨\n",
    "    accuracy_history.append(accuracy_score(y_pred, y_test)) # 정확도 측정 및 기록\n",
    "\n",
    "print(\"각 분할의 정확도 기록 :\", accuracy_history)\n",
    "print(\"평균 정확도 :\", np.mean(accuracy_history))"
   ]
  },
  {
   "cell_type": "markdown",
   "id": "2ac2ec6c-1257-4882-850b-8c85fc59f4a4",
   "metadata": {},
   "source": [
    "Gradient Boosting Classifier"
   ]
  },
  {
   "cell_type": "code",
   "execution_count": 43,
   "id": "c3ae60b1-e4fc-4a9b-b0c7-17e7615e5a10",
   "metadata": {},
   "outputs": [
    {
     "name": "stdout",
     "output_type": "stream",
     "text": [
      "                     model   accuracy\n",
      "0   RandomForestClassifier  87.846837\n",
      "1  GradientBoostClassifier  83.129856\n"
     ]
    },
    {
     "data": {
      "text/plain": [
       "<Figure size 1200x900 with 0 Axes>"
      ]
     },
     "metadata": {},
     "output_type": "display_data"
    },
    {
     "data": {
      "image/png": "[encoded data removed]",
      "text/plain": [
       "<Figure size 1000x200 with 1 Axes>"
      ]
     },
     "metadata": {},
     "output_type": "display_data"
    }
   ],
   "source": [
    "GBC = gbc()\n",
    "GBC.fit(train_x,train_y)\n",
    "pred_y = GBC.predict(test_x)\n",
    "accuracy_eval('GradientBoostClassifier', pred_y,test_y)"
   ]
  },
  {
   "cell_type": "code",
   "execution_count": 115,
   "id": "3ba6b9e9-6194-4565-9a51-858c51e1b4f1",
   "metadata": {},
   "outputs": [
    {
     "name": "stdout",
     "output_type": "stream",
     "text": [
      "final params {'GBC__learning_rate': 0.1, 'GBC__n_estimators': 250}\n",
      "best score 0.85391280327173\n",
      "각 분할의 정확도 기록 : [0.9361820199778025, 0.937291897891232, 0.9311875693673696, 0.9378468368479467, 0.9345172031076582]\n",
      "평균 정확도 : 0.9354051054384017\n"
     ]
    }
   ],
   "source": [
    "# Gradient Boosting Classifier\n",
    "# parameter 딕셔너리 설정할 때, 파이프 내 작업 이름 뒤 언더바 두 개 반드시 붙여야 함\n",
    "\n",
    "pipe = [\n",
    "    ('scaler', StandardScaler()),\n",
    "    ('GBC', gbc())\n",
    "]\n",
    "pipeline_gbc = Pipeline(pipe, verbose=False)\n",
    "\n",
    "cv=5\n",
    "\n",
    "param_test = {\n",
    "    \"GBC__n_estimators\":[250],\n",
    "    \"GBC__learning_rate\": [0.1, 0.2, 0.3, 0.4, 0.5]\n",
    "}\n",
    "gs_gbc = GridSearchCV(pipeline_gbc, param_grid=param_test, cv=5, refit=True)\n",
    "gs_gbc.fit(x_train, y_train)\n",
    "\n",
    "\n",
    "\n",
    "estimator_gbc = gs_gbc.best_estimator_\n",
    "\n",
    "print('final params', gs_gbc.best_params_)   # 최적의 파라미터 값 출력\n",
    "print('best score', gs_gbc.best_score_)      # 최고의 점수\n",
    "\n",
    "kf = KFold(n_splits = 5, shuffle = True, random_state = 50)\n",
    "accuracy_history = []\n",
    "\n",
    "for train_index, test_index in kf.split(data):\n",
    "\n",
    "    x_train, x_test = data[train_index], data[test_index]\n",
    "    y_train, y_test = label[train_index], label[test_index]\n",
    "\n",
    "    res = estimator_gbc.fit(x_train, y_train)\n",
    "\n",
    "    y_pred = res.predict(x_test) # 예측 라벨\n",
    "    accuracy_history.append(accuracy_score(y_pred, y_test)) # 정확도 측정 및 기록\n",
    "\n",
    "print(\"각 분할의 정확도 기록 :\", accuracy_history)\n",
    "print(\"평균 정확도 :\", np.mean(accuracy_history))"
   ]
  },
  {
   "cell_type": "markdown",
   "id": "69d63cfd-ea12-4e91-bc97-3218f75b18e7",
   "metadata": {},
   "source": [
    "SVM"
   ]
  },
  {
   "cell_type": "code",
   "execution_count": 117,
   "id": "28ad1a2b-3f06-4cdf-a310-f8bede68f3d6",
   "metadata": {},
   "outputs": [
    {
     "name": "stdout",
     "output_type": "stream",
     "text": [
      "final params {'svm__C': 10, 'svm__gamma': 0.1}\n",
      "best score 0.7744247377909276\n",
      "각 분할의 정확도 기록 : [0.9544950055493896, 0.9522752497225305, 0.9483906770255272, 0.9567147613762487, 0.9517203107658158]\n",
      "평균 정확도 : 0.9527192008879023\n"
     ]
    }
   ],
   "source": [
    "# SVM \n",
    "\n",
    "pipe = [\n",
    "    ('scaler', StandardScaler()),\n",
    "    ('svm', SVC())\n",
    "]\n",
    "pipeline_svm = Pipeline(pipe, verbose=False)\n",
    "\n",
    "cv=5\n",
    "\n",
    "param_grid = {\n",
    "    'svm__C':[10],\n",
    "    'svm__gamma':[0.1]\n",
    "}\n",
    "gs_SVM = GridSearchCV(pipeline_svm, param_grid=param_grid, cv=5, refit=True)\n",
    "gs_SVM.fit(x_train, y_train)\n",
    "\n",
    "\n",
    "\n",
    "estimator_svm = gs_SVM.best_estimator_\n",
    "\n",
    "print('final params', gs_SVM.best_params_)   # 최적의 파라미터 값 출력\n",
    "print('best score', gs_SVM.best_score_)      # 최고의 점수\n",
    "\n",
    "kf = KFold(n_splits = 5, shuffle = True, random_state = 50)\n",
    "accuracy_history = []\n",
    "\n",
    "for train_index, test_index in kf.split(data):\n",
    "\n",
    "    x_train, x_test = data[train_index], data[test_index]\n",
    "    y_train, y_test = label[train_index], label[test_index]\n",
    "\n",
    "    res = estimator_svm.fit(x_train, y_train)\n",
    "\n",
    "    y_pred = res.predict(x_test) # 예측 라벨\n",
    "    accuracy_history.append(accuracy_score(y_pred, y_test)) # 정확도 측정 및 기록\n",
    "\n",
    "print(\"각 분할의 정확도 기록 :\", accuracy_history)\n",
    "print(\"평균 정확도 :\", np.mean(accuracy_history))"
   ]
  },
  {
   "cell_type": "code",
   "execution_count": 41,
   "id": "e0b4ea0e-d54c-4b95-a6e2-b5448386152b",
   "metadata": {},
   "outputs": [
    {
     "data": {
      "text/html": [
       "<div>\n",
       "<style scoped>\n",
       "    .dataframe tbody tr th:only-of-type {\n",
       "        vertical-align: middle;\n",
       "    }\n",
       "\n",
       "    .dataframe tbody tr th {\n",
       "        vertical-align: top;\n",
       "    }\n",
       "\n",
       "    .dataframe thead th {\n",
       "        text-align: right;\n",
       "    }\n",
       "</style>\n",
       "<table border=\"1\" class=\"dataframe\">\n",
       "  <thead>\n",
       "    <tr style=\"text-align: right;\">\n",
       "      <th></th>\n",
       "      <th>params</th>\n",
       "      <th>mean_test_score</th>\n",
       "      <th>rank_test_score</th>\n",
       "      <th>split0_test_score</th>\n",
       "      <th>split1_test_score</th>\n",
       "      <th>split2_test_score</th>\n",
       "      <th>split3_test_score</th>\n",
       "      <th>split4_test_score</th>\n",
       "    </tr>\n",
       "  </thead>\n",
       "  <tbody>\n",
       "    <tr>\n",
       "      <th>0</th>\n",
       "      <td>{'svm__C': 10, 'svm__gamma': 0.1}</td>\n",
       "      <td>0.881521</td>\n",
       "      <td>1</td>\n",
       "      <td>0.884189</td>\n",
       "      <td>0.869626</td>\n",
       "      <td>0.886269</td>\n",
       "      <td>0.880638</td>\n",
       "      <td>0.886884</td>\n",
       "    </tr>\n",
       "  </tbody>\n",
       "</table>\n",
       "</div>"
      ],
      "text/plain": [
       "                              params  mean_test_score  rank_test_score  \\\n",
       "0  {'svm__C': 10, 'svm__gamma': 0.1}         0.881521                1   \n",
       "\n",
       "   split0_test_score  split1_test_score  split2_test_score  split3_test_score  \\\n",
       "0           0.884189           0.869626           0.886269           0.880638   \n",
       "\n",
       "   split4_test_score  \n",
       "0           0.886884  "
      ]
     },
     "execution_count": 41,
     "metadata": {},
     "output_type": "execute_result"
    }
   ],
   "source": [
    "scores_df = pd.DataFrame(gs_SVM.cv_results_)\n",
    "scores_df[['params', 'mean_test_score', 'rank_test_score', \\\n",
    "           'split0_test_score', 'split1_test_score', 'split2_test_score', \n",
    "           'split3_test_score', 'split4_test_score']]"
   ]
  },
  {
   "cell_type": "markdown",
   "id": "35be543b-8827-44c2-9f42-51a13910ae77",
   "metadata": {},
   "source": [
    "# Result"
   ]
  },
  {
   "cell_type": "markdown",
   "id": "5a8f6b55-7c3d-41d4-9135-30d10572a3d5",
   "metadata": {},
   "source": [
    "binary_classification = {\"Dicision Tree\": 89.48,\n",
    "                         \"Random Forest\": 93.64,\n",
    "                         \"Gradient boosting classifier\" : 93.54,\n",
    "                         \"Support Vector Machine\" : 95.27,\n",
    "                         \"LSTM\" : }\n",
    "                         \n",
    "                         \n",
    "trit_classification = {\"Gradient boosting classifier\": 87.17,\n",
    "                       \"Support Vector Machine\" : 88.59\n",
    "                      }"
   ]
  }
 ],
 "metadata": {
  "kernelspec": {
   "display_name": "ml2310",
   "language": "python",
   "name": "ml2310"
  },
  "language_info": {
   "codemirror_mode": {
    "name": "ipython",
    "version": 3
   },
   "file_extension": ".py",
   "mimetype": "text/x-python",
   "name": "python",
   "nbconvert_exporter": "python",
   "pygments_lexer": "ipython3",
   "version": "3.11.5"
  }
 },
 "nbformat": 4,
 "nbformat_minor": 5
}
