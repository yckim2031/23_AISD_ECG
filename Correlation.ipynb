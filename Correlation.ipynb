{
 "cells": [
  {
   "cell_type": "code",
   "execution_count": null,
   "id": "b47c9b09-1b9e-4522-bc99-aa5c60f2b148",
   "metadata": {
    "tags": []
   },
   "outputs": [],
   "source": [
    "import numpy as np\n",
    "from scipy import stats\n",
    "import os\n",
    "import pandas as pd\n",
    "import seaborn as sns\n",
    "import tensorflow as tf\n",
    "import matplotlib.pyplot as plt\n",
    "\n",
    "from sklearn.linear_model import LogisticRegression\n",
    "from sklearn.model_selection import train_test_split\n",
    "from sklearn.metrics import accuracy_score, classification_report, confusion_matrix"
   ]
  },
  {
   "cell_type": "code",
   "execution_count": 2,
   "id": "82d397e5-e7a5-4faa-9aa5-49bb5a054cf4",
   "metadata": {},
   "outputs": [
    {
     "name": "stdin",
     "output_type": "stream",
     "text": [
      "Type dataset folder path:  /home/yoonchul/GoogleDrive/Research/ppg_alcohol/Dataset\n"
     ]
    }
   ],
   "source": [
    "#Calling all dataset and labelling\n",
    "\n",
    "folder_path = input(\"Type dataset folder path: \")\n",
    "file_list = os.listdir(folder_path)\n",
    "data = np.empty((0,19), dtype = float)\n",
    "label = np.empty((0,), dtype = int)\n",
    "\n",
    "for filename in file_list:\n",
    "    if filename.endswith('.npz'):  # Check if the file is an .npz file\n",
    "        file_path = os.path.join(folder_path, filename)  # Get the full path of the file\n",
    "        temp = np.load(file_path)\n",
    "        data = np.insert(data, data.shape[0], temp['x'], axis = 0)\n",
    "        for i in range(temp['x'].shape[0]):\n",
    "            label = np.append(label, temp['y'])"
   ]
  },
  {
   "cell_type": "code",
   "execution_count": 7,
   "id": "94dc039f-43ff-4d86-85bf-35c94c70459f",
   "metadata": {},
   "outputs": [
    {
     "name": "stdin",
     "output_type": "stream",
     "text": [
      "Type dataset folder path:  /home/yoonchul/GoogleDrive/Research/ppg_alcohol/Dataset\n"
     ]
    }
   ],
   "source": [
    "#Calling specific subject data\n",
    "\n",
    "folder_path = input(\"Type dataset folder path: \")\n",
    "file_list = os.listdir(folder_path)\n",
    "data = np.empty((0,19), dtype = float)\n",
    "label = np.empty((0,), dtype = float)\n",
    "\n",
    "for filename in file_list:\n",
    "    if filename.endswith('.npz') and filename[0]=='1':  # Check if the file is an .npz file\n",
    "        file_path = os.path.join(folder_path, filename)  # Get the full path of the file\n",
    "        temp = np.load(file_path)\n",
    "        data = np.insert(data, data.shape[0], temp['x'], axis = 0)\n",
    "        for i in range(temp['x'].shape[0]):\n",
    "            label = np.append(label, temp['y'])"
   ]
  },
  {
   "cell_type": "code",
   "execution_count": null,
   "id": "68cde0e1-14dd-4539-81a9-221ea67c976f",
   "metadata": {},
   "outputs": [],
   "source": [
    "num_classes = 3\n",
    "one_hot_labels = tf.one_hot(labels, num_classes)\n",
    "X_train, X_test, y_train, y_test = train_test_split(X, y, test_size=0.2, random_state=42)"
   ]
  },
  {
   "cell_type": "code",
   "execution_count": 8,
   "id": "b0a8b570-46ba-4bdb-a4a6-71bf54fae77b",
   "metadata": {},
   "outputs": [
    {
     "name": "stdout",
     "output_type": "stream",
     "text": [
      "number of sober data:  585\n",
      "number of 0.03 data:  810\n",
      "number of 0.08 data:  374\n"
     ]
    }
   ],
   "source": [
    "# Data number count\n",
    "sum_sober = 0\n",
    "sum_003 = 0\n",
    "sum_008 = 0\n",
    "\n",
    "sober_HR = 0\n",
    "BrAC003_HR = 0\n",
    "BrAC008_HR = 0\n",
    "\n",
    "for i in range(len(label)):\n",
    "    if label[i] == 1:\n",
    "        sum_sober += 1\n",
    "        label[i] = 0\n",
    "        sober_HR += np.sum(data[i,0:4])\n",
    "    if label[i] == 2:\n",
    "        sum_003 += 1\n",
    "        label[i] = 0.03\n",
    "        BrAC003_HR += np.sum(data[i,0:4])\n",
    "    if label[i] == 3:\n",
    "        sum_008 += 1\n",
    "        label[i] = 0.08\n",
    "        BrAC008_HR += np.sum(data[i,0:4])\n",
    "        \n",
    "print(\"number of sober data: \", sum_sober)\n",
    "print(\"number of 0.03 data: \", sum_003)\n",
    "print(\"number of 0.08 data: \", sum_008)"
   ]
  },
  {
   "cell_type": "code",
   "execution_count": 9,
   "id": "5ece405d-5218-4585-9235-d241e3fb1d59",
   "metadata": {},
   "outputs": [
    {
     "name": "stdout",
     "output_type": "stream",
     "text": [
      "6122.750427350427 5468.5506172839505 5353.483957219251\n"
     ]
    }
   ],
   "source": [
    "print(sober_HR/sum_sober,\n",
    "      BrAC003_HR/sum_003,\n",
    "      BrAC008_HR/sum_008)"
   ]
  },
  {
   "cell_type": "code",
   "execution_count": 16,
   "id": "d2451976-e0bd-4321-9dd3-c7e2881970eb",
   "metadata": {},
   "outputs": [
    {
     "name": "stdout",
     "output_type": "stream",
     "text": [
      "          TmBB_1     label\n",
      "TmBB_1  1.000000 -0.541984\n",
      "label  -0.541984  1.000000\n",
      "          TmBB_2     label\n",
      "TmBB_2  1.000000 -0.543335\n",
      "label  -0.543335  1.000000\n",
      "          TmBB_3     label\n",
      "TmBB_3  1.000000 -0.536837\n",
      "label  -0.536837  1.000000\n",
      "          TmBB_4     label\n",
      "TmBB_4  1.000000 -0.530702\n",
      "label  -0.530702  1.000000\n",
      "          TmCA_1     label\n",
      "TmCA_1  1.000000 -0.392731\n",
      "label  -0.392731  1.000000\n",
      "          TmCA_2     label\n",
      "TmCA_2  1.000000 -0.388613\n",
      "label  -0.388613  1.000000\n",
      "          TmCA_3     label\n",
      "TmCA_3  1.000000 -0.378828\n",
      "label  -0.378828  1.000000\n",
      "          TmCA_4     label\n",
      "TmCA_4  1.000000 -0.371266\n",
      "label  -0.371266  1.000000\n",
      "          TmCA_5     label\n",
      "TmCA_5  1.000000 -0.388997\n",
      "label  -0.388997  1.000000\n",
      "          RSD_1     label\n",
      "RSD_1  1.000000  0.273049\n",
      "label  0.273049  1.000000\n",
      "          RSD_2     label\n",
      "RSD_2  1.000000  0.268501\n",
      "label  0.268501  1.000000\n",
      "          RSD_3     label\n",
      "RSD_3  1.000000  0.257488\n",
      "label  0.257488  1.000000\n",
      "          RSD_4     label\n",
      "RSD_4  1.000000  0.244507\n",
      "label  0.244507  1.000000\n",
      "          RSD_5     label\n",
      "RSD_5  1.000000  0.265557\n",
      "label  0.265557  1.000000\n",
      "          RtArea_1     label\n",
      "RtArea_1  1.000000 -0.096332\n",
      "label    -0.096332  1.000000\n",
      "          RtArea_2     label\n",
      "RtArea_2  1.000000 -0.105233\n",
      "label    -0.105233  1.000000\n",
      "          RtArea_3     label\n",
      "RtArea_3  1.000000 -0.100138\n",
      "label    -0.100138  1.000000\n",
      "          RtArea_4    label\n",
      "RtArea_4   1.00000 -0.10699\n",
      "label     -0.10699  1.00000\n",
      "          RtArea_5     label\n",
      "RtArea_5  1.000000 -0.132314\n",
      "label    -0.132314  1.000000\n"
     ]
    }
   ],
   "source": [
    "columns = ['TmBB_1', 'TmBB_2', 'TmBB_3', 'TmBB_4',\n",
    "           'TmCA_1', 'TmCA_2', 'TmCA_3', 'TmCA_4', 'TmCA_5',\n",
    "           'RSD_1', 'RSD_2', 'RSD_3', 'RSD_4', 'RSD_5',\n",
    "           'RtArea_1', 'RtArea_2', 'RtArea_3', 'RtArea_4', 'RtArea_5']\n",
    "data_p = pd.DataFrame(data, columns = columns)\n",
    "label_p = pd.DataFrame(label)\n",
    "\n",
    "for i in range(19):\n",
    "    df1_dict = {columns[i]:data[:,i],'label' :label}\n",
    "    df1 = pd.DataFrame(df1_dict)\n",
    "    print(df1.corr(method=\"spearman\"))"
   ]
  }
 ],
 "metadata": {
  "kernelspec": {
   "display_name": "ml2310",
   "language": "python",
   "name": "ml2310"
  },
  "language_info": {
   "codemirror_mode": {
    "name": "ipython",
    "version": 3
   },
   "file_extension": ".py",
   "mimetype": "text/x-python",
   "name": "python",
   "nbconvert_exporter": "python",
   "pygments_lexer": "ipython3",
   "version": "3.11.5"
  }
 },
 "nbformat": 4,
 "nbformat_minor": 5
}
